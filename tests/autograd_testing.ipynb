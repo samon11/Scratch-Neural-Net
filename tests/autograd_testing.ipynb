{
 "cells": [
  {
   "cell_type": "code",
   "execution_count": 1,
   "metadata": {},
   "outputs": [],
   "source": [
    "from autograd import grad\n",
    "import autograd.numpy as np"
   ]
  },
  {
   "cell_type": "code",
   "execution_count": 2,
   "metadata": {},
   "outputs": [],
   "source": [
    "class TestNet:\n",
    "    def __init__(self, input_dim, layer_sizes=[3, 1], epochs=100):\n",
    "        self.w = [np.random.rand(input_dim, layer_sizes[0])]\n",
    "        \n",
    "        for i in range(len(layer_sizes) - 1):\n",
    "            self.w.append(np.random.rand(layer_sizes[i], layer_sizes[i+1]))\n",
    "        \n",
    "        self.epochs = epochs\n",
    "\n",
    "            \n",
    "    def forward(self, w1, w2):\n",
    "        z = np.dot(self.w[0], w1)\n",
    "        a = np.tanh(z)\n",
    "\n",
    "        z = np.dot(w1, w2)\n",
    "        a = np.tanh(z)\n",
    "\n",
    "        return a\n",
    "                          \n",
    "                          \n",
    "    def mse(self, x, w1, w2):\n",
    "        pred = self.forward(w1, w2)\n",
    "        return np.mean(np.square(1.0 - pred))  # target always equal to 1.0    \n",
    "                          \n",
    "    training_grad_1 = grad(mse, 2)\n",
    "    training_grad_2 = grad(mse, 3)\n",
    "\n",
    "    # adapted from autograd/docs/tutorial logistic regression\n",
    "    def train(self, x, w1, w2):\n",
    "        print(\"Initial loss:\", self.mse(x, w1, w2))\n",
    "        for i in range(self.epochs):\n",
    "            w1 -= self.training_grad_1(x, w1, w2) * 0.01\n",
    "            w2 -= self.training_grad_2(x, w1, w2) * 0.01\n",
    "                          \n",
    "        print(\"Trained loss:\", self.mse(x, w1, w2))                  "
   ]
  },
  {
   "cell_type": "code",
   "execution_count": 3,
   "metadata": {},
   "outputs": [],
   "source": [
    "net = TestNet(input_dim=3, epochs=200)"
   ]
  },
  {
   "cell_type": "code",
   "execution_count": 4,
   "metadata": {},
   "outputs": [
    {
     "name": "stdout",
     "output_type": "stream",
     "text": [
      "Initial loss: 0.023525437845790215\n",
      "Trained loss: 0.011324892335899115\n"
     ]
    }
   ],
   "source": [
    "x_input = np.random.rand(1,3)\n",
    "w1 = np.random.rand(3, 3)\n",
    "w2 = np.random.rand(3, 1)\n",
    "net.train(x_input, w1, w2)"
   ]
  }
 ],
 "metadata": {
  "kernelspec": {
   "display_name": "Python 3",
   "language": "python",
   "name": "python3"
  },
  "language_info": {
   "codemirror_mode": {
    "name": "ipython",
    "version": 3
   },
   "file_extension": ".py",
   "mimetype": "text/x-python",
   "name": "python",
   "nbconvert_exporter": "python",
   "pygments_lexer": "ipython3",
   "version": "3.6.8"
  }
 },
 "nbformat": 4,
 "nbformat_minor": 2
}
